{
 "cells": [
  {
   "cell_type": "markdown",
   "id": "17897da2",
   "metadata": {},
   "source": [
    "# Framework for Strategy I (S1)"
   ]
  },
  {
   "cell_type": "markdown",
   "id": "14999804",
   "metadata": {},
   "source": [
    "# Data import and pre-processing"
   ]
  },
  {
   "cell_type": "code",
   "execution_count": 9,
   "id": "ceee2ac9",
   "metadata": {},
   "outputs": [],
   "source": [
    "# import python libraries\n",
    "import pandas as pd\n",
    "import numpy as np\n",
    "import datetime as dt\n",
    "import os"
   ]
  },
  {
   "cell_type": "code",
   "execution_count": 10,
   "id": "65d1deaf",
   "metadata": {},
   "outputs": [],
   "source": [
    "# First, define date range for data of interest. In this experiment, I am interested to analysis 1 year worth of data\n",
    "start_date = pd.to_datetime('2022-04-01')\n",
    "end_date = pd.to_datetime('2023-05-31')"
   ]
  },
  {
   "cell_type": "code",
   "execution_count": 11,
   "id": "30dc9839",
   "metadata": {},
   "outputs": [],
   "source": [
    "# feature functions for age group\n",
    "def age_group_range(age):\n",
    "    if age < 18:\n",
    "        return 'age_group_0_to_17'\n",
    "    elif age < 35:\n",
    "        return 'age_group_18_to_34'\n",
    "    elif age < 50:\n",
    "        return 'age_group_35_to_49'\n",
    "    elif age < 65:\n",
    "        return 'age_group_50_to_64'\n",
    "    else:\n",
    "        return 'age_group_above_65'"
   ]
  },
  {
   "cell_type": "code",
   "execution_count": 14,
   "id": "1a7d022c",
   "metadata": {},
   "outputs": [],
   "source": [
    "# import data\n",
    "# Define the relative path to the data file\n",
    "data_path = './data/healthcare_dataset.csv'\n",
    "\n",
    "# Load the CSV file\n",
    "df = pd.read_csv(data_path)\n",
    "\n",
    "# convert date in string type to datetime\n",
    "date_col = ['Date of Admission', 'Discharge Date']\n",
    "for col in date_col:\n",
    "    df[col] = pd.to_datetime(df[col])\n",
    "\n",
    "# add end of month columns for date field\n",
    "df['admission_EOM_date'] = df['Date of Admission'].apply(lambda x: x + pd.offsets.MonthEnd(0))\n",
    "df['discharge_EOM_date'] = df['Discharge Date'].apply(lambda x: x + pd.offsets.MonthEnd(0))\n",
    "\n",
    "# add encounter_id \n",
    "df['encounter_id'] = df.index + 101\n",
    "\n",
    "df['age_group'] = df['Age'].apply(lambda x: age_group_range(x))\n",
    "\n",
    "# compute LOS\n",
    "df['length_of_stay'] = (df['Discharge Date'] - df['Date of Admission']).dt.days\n",
    "\n",
    "# subset data based on date range\n",
    "df = df[(df['Date of Admission']>=start_date) & (df['Date of Admission']<end_date)]"
   ]
  },
  {
   "cell_type": "markdown",
   "id": "e8cac29a",
   "metadata": {},
   "source": [
    "# Compute descriptive metrics"
   ]
  },
  {
   "cell_type": "code",
   "execution_count": 15,
   "id": "4a0c0ca3",
   "metadata": {},
   "outputs": [],
   "source": [
    "## Overview metrics\n",
    "\n",
    "# Number of encounters\n",
    "total_encounter_count = df['encounter_id'].nunique()\n",
    "# Number of patients\n",
    "total_patient_count = df['Name'].nunique()\n",
    "\n",
    "## Utilization Metrics\n",
    "\n",
    "# Distribution by Age\n",
    "age_dist = df.groupby('age_group')['encounter_id'].size().reset_index().rename(columns={'encounter_id':'encounterCount'}).to_string()\n",
    "# Distribution by Gender\n",
    "gender_dist = df.groupby('Gender')['encounter_id'].size().reset_index().rename(columns={'encounter_id':'encounterCount'}).to_string()\n",
    "# - Distribution by Medical Condition\n",
    "condition_dist = df.groupby('Medical Condition')['encounter_id'].size().reset_index().rename(columns={'encounter_id':'encounterCount'}).to_string()\n",
    "# - Distrituion Admission Type\n",
    "admit_dist = df.groupby('Admission Type')['encounter_id'].size().reset_index().rename(columns={'encounter_id':'encounterCount'}).to_string()\n",
    "# - Distribution Medication\n",
    "med_dist = df.groupby('Medication')['encounter_id'].size().reset_index().rename(columns={'encounter_id':'encounterCount'}).to_string()\n",
    "# - Distribution by Insurance Provider\n",
    "ins_dist = df.groupby('Insurance Provider')['encounter_id'].size().reset_index().rename(columns={'encounter_id':'encounterCount'}).to_string()\n",
    "\n",
    "## Financial Metrics\n",
    "\n",
    "# Total Billing Amount\n",
    "total_bill_amount = df['Billing Amount'].sum()\n",
    "# Total Bill Amount by Condition\n",
    "total_amount_by_cond = df.groupby('Medical Condition')['Billing Amount'].sum().reset_index().rename(columns={'Billing Amount':'total_bill_amount'}).to_string()\n",
    "# Total Bill Amount by Medical Condition\n",
    "total_amount_by_med = df.groupby('Medication')['Billing Amount'].sum().reset_index().rename(columns={'Billing Amount':'total_bill_amount'}).to_string()\n",
    "# Avg Bill Amount by encounter\n",
    "avg_enc_amount = df['Billing Amount'].sum()/df['encounter_id'].nunique()\n",
    "# Median Bill Amount by encounter\n",
    "median_enc_amount = df['Billing Amount'].median()\n",
    "\n"
   ]
  },
  {
   "cell_type": "markdown",
   "id": "bdf93041",
   "metadata": {},
   "source": [
    "## Generating Summary Output for Descriptive Analysis"
   ]
  },
  {
   "cell_type": "code",
   "execution_count": 25,
   "id": "1d4b59e7",
   "metadata": {},
   "outputs": [
    {
     "name": "stdout",
     "output_type": "stream",
     "text": [
      "Section 1: Descriptive analytics\n",
      "Analysis was conduction with data between 2022-04-01 and 2023-05-31\n",
      "\n",
      "Overview analysis\n",
      "- Number of hospital admission = 12863\n",
      "- Distribution by encounter by age groups:\n",
      "                age_group  encounterCount\n",
      "0   age_group_0_to_17              34\n",
      "1  age_group_18_to_34            3132\n",
      "2  age_group_35_to_49            2830\n",
      "3  age_group_50_to_64            2936\n",
      "4  age_group_above_65            3931\n",
      "\n",
      "- Distribution by encounter by gender:\n",
      "       Gender  encounterCount\n",
      "0  Female            6433\n",
      "1    Male            6430\n",
      "\n",
      "Utilization analysis\n",
      "- Distribution by encounter by medical conditions:\n",
      "      Medical Condition  encounterCount\n",
      "0         Arthritis            2182\n",
      "1            Asthma            2066\n",
      "2            Cancer            2176\n",
      "3          Diabetes            2223\n",
      "4      Hypertension            2137\n",
      "5           Obesity            2079\n",
      "\n",
      "- Distribution by encounter by admission types:\n",
      "      Admission Type  encounterCount\n",
      "0       Elective            4384\n",
      "1      Emergency            4230\n",
      "2         Urgent            4249\n",
      "\n",
      "- Distribution by encounter by medications:\n",
      "        Medication  encounterCount\n",
      "0      Aspirin            2630\n",
      "1    Ibuprofen            2588\n",
      "2      Lipitor            2594\n",
      "3  Paracetamol            2482\n",
      "4   Penicillin            2569\n",
      "\n",
      "- Distribution by encounter by insurance providers:\n",
      "      Insurance Provider  encounterCount\n",
      "0              Aetna            2465\n",
      "1         Blue Cross            2506\n",
      "2              Cigna            2624\n",
      "3           Medicare            2667\n",
      "4   UnitedHealthcare            2601\n",
      "\n",
      "Financial analysis\n",
      "- Total bill amount = $327244994.55\n",
      "- Average bill amount per encounter = $25440.80\n",
      "- Median bill amount per encounter = $25459.10\n",
      "- Distribution by total bill amount by medical condition:\n",
      "      Medical Condition  total_bill_amount\n",
      "0         Arthritis       5.659439e+07\n",
      "1            Asthma       5.217874e+07\n",
      "2            Cancer       5.365764e+07\n",
      "3          Diabetes       5.648195e+07\n",
      "4      Hypertension       5.502182e+07\n",
      "5           Obesity       5.331044e+07\n",
      "\n",
      "- Distribution by total bill amount by medication:\n",
      "        Medication  total_bill_amount\n",
      "0      Aspirin       6.625143e+07\n",
      "1    Ibuprofen       6.631683e+07\n",
      "2      Lipitor       6.628477e+07\n",
      "3  Paracetamol       6.288386e+07\n",
      "4   Penicillin       6.550810e+07\n"
     ]
    }
   ],
   "source": [
    "descriptive_summary = f\"Section 1: Descriptive analytics\\n\\\n",
    "Analysis was conduction with data between {start_date.strftime('%Y-%m-%d')} and {end_date.strftime('%Y-%m-%d')}\\n\\n\\\n",
    "Overview analysis\\n\\\n",
    "- Number of hospital admission = {total_encounter_count}\\n\\\n",
    "- Distribution by encounter by age groups:\\n\\\n",
    "    {age_dist}\\n\\n\\\n",
    "- Distribution by encounter by gender:\\n\\\n",
    "    {gender_dist}\\n\\n\\\n",
    "Utilization analysis\\n\\\n",
    "- Distribution by encounter by medical conditions:\\n\\\n",
    "    {condition_dist}\\n\\n\\\n",
    "- Distribution by encounter by admission types:\\n\\\n",
    "    {admit_dist}\\n\\n\\\n",
    "- Distribution by encounter by medications:\\n\\\n",
    "    {med_dist}\\n\\n\\\n",
    "- Distribution by encounter by insurance providers:\\n\\\n",
    "    {ins_dist}\\n\\n\\\n",
    "Financial analysis\\n\\\n",
    "- Total bill amount = ${total_bill_amount:.2f}\\n\\\n",
    "- Average bill amount per encounter = ${avg_enc_amount:.2f}\\n\\\n",
    "- Median bill amount per encounter = ${median_enc_amount:.2f}\\n\\\n",
    "- Distribution by total bill amount by medical condition:\\n\\\n",
    "    {total_amount_by_cond}\\n\\n\\\n",
    "- Distribution by total bill amount by medication:\\n\\\n",
    "    {total_amount_by_med}\"\n",
    "\n",
    "print(descriptive_summary)"
   ]
  },
  {
   "cell_type": "markdown",
   "id": "3842dbaa",
   "metadata": {},
   "source": [
    "# Statistical analytics\n",
    "1) Hypothesis test with T-test\n",
    "2) Correlation\n",
    "3) Forecasting"
   ]
  },
  {
   "cell_type": "markdown",
   "id": "db643e27",
   "metadata": {},
   "source": [
    "### T-test"
   ]
  },
  {
   "cell_type": "code",
   "execution_count": 18,
   "id": "e6ed871f",
   "metadata": {},
   "outputs": [],
   "source": [
    "# Hypothesis: Encounter with abnormal or inconclusive test result has higher billing amount per encounter\n",
    "# Statistically significant value: P-value < 0.05 \n",
    "\n",
    "from scipy.stats import ttest_ind\n",
    "\n",
    "insurance_provider_list = df['Insurance Provider'].unique()\n",
    "res_df = pd.DataFrame()\n",
    "for ins in insurance_provider_list:\n",
    "    res = pd.DataFrame({'insurance_provider':ins}, index=[0])\n",
    "    cohort_a = df[\n",
    "        (df['Test Results']!='Normal') &\n",
    "        (df['Insurance Provider']==ins)]\n",
    "    cohort_b = df[\n",
    "        (df['Test Results']=='Normal') &\n",
    "        (df['Insurance Provider']==ins)]\n",
    "    stat_ttest, p_ttest = ttest_ind(cohort_a['Billing Amount'], cohort_b['Billing Amount'])\n",
    "    res['t_test_stat'] = stat_ttest\n",
    "    res['p_value'] = p_ttest\n",
    "    res['mean_bill_amount_reference'] = round(cohort_b['Billing Amount'].mean(),0)\n",
    "    res['mean_bill_amount_target'] = round(cohort_a['Billing Amount'].mean(),0)\n",
    "    res['percent_deviate'] = round((res['mean_bill_amount_target']-res['mean_bill_amount_reference'])/res['mean_bill_amount_reference']*100,2)\n",
    "    res['change_direction'] = np.where(res['percent_deviate']<0, 'lower', \n",
    "                                       np.where(res['percent_deviate']>0, 'higher', 'no change'))\n",
    "\n",
    "    res_df = pd.concat([res_df, res])\n",
    "\n",
    "ttest_string_df = res_df.to_string()\n",
    "\n",
    "    "
   ]
  },
  {
   "cell_type": "markdown",
   "id": "1d81572d",
   "metadata": {},
   "source": [
    "### Correlation Coefficient"
   ]
  },
  {
   "cell_type": "code",
   "execution_count": 33,
   "id": "a8b6009c",
   "metadata": {},
   "outputs": [],
   "source": [
    "import itertools\n",
    "\n",
    "continuous_var = ['Age', 'Billing Amount', 'length_of_stay']\n",
    "pair_var_list = list(itertools.combinations(continuous_var, 2))\n",
    "\n",
    "corr_res = pd.DataFrame()\n",
    "for cols in pair_var_list:\n",
    "    res = pd.DataFrame({\n",
    "        'var_1':cols[0],\n",
    "        'var_2':cols[1],\n",
    "        'correlation_coefficient': df[cols[0]].corr(df[cols[1]])\n",
    "        }, index=[0])\n",
    "    corr_res = pd.concat([corr_res, res])\n",
    "\n",
    "corr_res['direction'] = np.where(corr_res['correlation_coefficient']<0, 'negatively correlated', 'positively correlated')\n",
    "corr_res_string = corr_res.to_string()"
   ]
  },
  {
   "cell_type": "markdown",
   "id": "591fcafa",
   "metadata": {},
   "source": [
    "### Forecasting with ARIMA"
   ]
  },
  {
   "cell_type": "code",
   "execution_count": 20,
   "id": "c753729a",
   "metadata": {},
   "outputs": [
    {
     "name": "stderr",
     "output_type": "stream",
     "text": [
      "/Users/jasmine/opt/anaconda3/envs/anaconda_py311/lib/python3.11/site-packages/statsmodels/tsa/base/tsa_model.py:473: ValueWarning: No frequency information was provided, so inferred frequency M will be used.\n",
      "  self._init_dates(dates, freq)\n",
      "/Users/jasmine/opt/anaconda3/envs/anaconda_py311/lib/python3.11/site-packages/statsmodels/tsa/base/tsa_model.py:473: ValueWarning: No frequency information was provided, so inferred frequency M will be used.\n",
      "  self._init_dates(dates, freq)\n",
      "/Users/jasmine/opt/anaconda3/envs/anaconda_py311/lib/python3.11/site-packages/statsmodels/tsa/base/tsa_model.py:473: ValueWarning: No frequency information was provided, so inferred frequency M will be used.\n",
      "  self._init_dates(dates, freq)\n",
      "/Users/jasmine/opt/anaconda3/envs/anaconda_py311/lib/python3.11/site-packages/statsmodels/tsa/statespace/sarimax.py:966: UserWarning: Non-stationary starting autoregressive parameters found. Using zeros as starting parameters.\n",
      "  warn('Non-stationary starting autoregressive parameters'\n",
      "/Users/jasmine/opt/anaconda3/envs/anaconda_py311/lib/python3.11/site-packages/statsmodels/tsa/statespace/sarimax.py:978: UserWarning: Non-invertible starting MA parameters found. Using zeros as starting parameters.\n",
      "  warn('Non-invertible starting MA parameters found.'\n"
     ]
    },
    {
     "data": {
      "image/png": "[encoded data removed]",
      "text/plain": [
       "<Figure size 1000x600 with 1 Axes>"
      ]
     },
     "metadata": {},
     "output_type": "display_data"
    }
   ],
   "source": [
    "import matplotlib.pyplot as plt\n",
    "from statsmodels.tsa.arima.model import ARIMA\n",
    "\n",
    "arima_df = df.groupby('admission_EOM_date')['Billing Amount'].sum().reset_index().sort_values('admission_EOM_date')\n",
    "arima_df['admission_EOM_date'] = pd.to_datetime(arima_df['admission_EOM_date'])\n",
    "arima_df.set_index('admission_EOM_date', inplace=True)\n",
    "\n",
    "# Build and Fit ARIMA Model\n",
    "model = ARIMA(arima_df['Billing Amount'], order=(2, 1, 2))  # Order can be fine-tuned\n",
    "fitted_model = model.fit()\n",
    "\n",
    "# Forecast the next 3 months\n",
    "forecast_steps = 3\n",
    "forecast = fitted_model.forecast(steps=forecast_steps)\n",
    "\n",
    "# Create forecast dates\n",
    "forecast_dates = pd.date_range(arima_df.index[-1] + pd.DateOffset(months=1), periods=forecast_steps, freq='MS')\n",
    "\n",
    "# Combine historical data and forecast\n",
    "forecast_df = pd.DataFrame({\n",
    "    \"Month\": forecast_dates,\n",
    "    \"forecasted_billing_amount\": forecast.values\n",
    "})\n",
    "forecast_df.set_index(\"Month\", inplace=True)\n",
    "\n",
    "# Visualize forecast\n",
    "plt.figure(figsize=(10, 6))\n",
    "plt.plot(arima_df.index, arima_df['Billing Amount'], marker='o', label=\"Historical Data\")\n",
    "plt.plot(forecast_df.index, forecast_df['forecasted_billing_amount'], marker='o', label=\"Forecasted Data\", linestyle='--')\n",
    "plt.title(\"Billing Amount Forecast Next 3 Months\")\n",
    "plt.xlabel(\"Month\")\n",
    "plt.ylabel(\"Billing Amount\")\n",
    "plt.grid()\n",
    "plt.legend()\n",
    "plt.show()\n",
    "\n",
    "# Print Forecasted Values\n",
    "forecast_df = forecast_df.reset_index()\n",
    "forecast_df_string = forecast_df.to_string()\n"
   ]
  },
  {
   "cell_type": "markdown",
   "id": "7970233a",
   "metadata": {},
   "source": [
    "## Generating Summary Output for Statistical Analysis"
   ]
  },
  {
   "cell_type": "code",
   "execution_count": 34,
   "id": "977cab1d",
   "metadata": {},
   "outputs": [
    {
     "name": "stdout",
     "output_type": "stream",
     "text": [
      "Section 2: Advanced analytics\n",
      "Advanced analysis was conduction with data between 2022-04-01 and 2023-05-31\n",
      "\n",
      "Hypothesis: Encounter with abnormal or inconclusive test result is statistical signficantly higher in billing amount per encounter\n",
      "Statistically significant if P-value < 0.05 \n",
      "- Result table to test for billing amount being higher for patients with abnormal or inconclusive test result:\n",
      "\n",
      "      insurance_provider  t_test_stat   p_value  mean_bill_amount_reference  mean_bill_amount_target  percent_deviate change_direction\n",
      "0              Aetna     0.348002  0.727869                     25507.0                  25718.0             0.83           higher\n",
      "0         Blue Cross    -0.948517  0.342958                     25615.0                  25049.0            -2.21            lower\n",
      "0              Cigna     0.787035  0.431332                     25146.0                  25616.0             1.87           higher\n",
      "0   UnitedHealthcare     0.525994  0.598937                     25229.0                  25539.0             1.23           higher\n",
      "0           Medicare     1.909680  0.056282                     24679.0                  25789.0             4.50           higher\n",
      "\n",
      "Correlation between continuous variables\n",
      "- Result table to measure correlation between two continuous variables:\n",
      "\n",
      "                var_1           var_2  correlation_coefficient              direction\n",
      "0             Age  Billing Amount                 0.006463  positively correlated\n",
      "0             Age  length_of_stay                 0.012319  positively correlated\n",
      "0  Billing Amount  length_of_stay                -0.021379  negatively correlated\n",
      "\n",
      "Forecast of billing amount for the next three months\n",
      "- Result table to forecast for billing amount for the next three months:\n",
      "\n",
      "           Month  forecasted_billing_amount\n",
      "0 2023-07-01               2.218500e+07\n",
      "1 2023-08-01               2.192444e+07\n",
      "2 2023-09-01               2.181563e+07\n"
     ]
    }
   ],
   "source": [
    "advanced_analytics_summary = f\"Section 2: Advanced analytics\\n\\\n",
    "Advanced analysis was conduction with data between {start_date.strftime('%Y-%m-%d')} and {end_date.strftime('%Y-%m-%d')}\\n\\n\\\n",
    "Hypothesis: Encounter with abnormal or inconclusive test result is statistical signficantly higher in billing amount per encounter\\n\\\n",
    "Statistically significant if P-value < 0.05 \\n\\\n",
    "- Result table to test for billing amount being higher for patients with abnormal or inconclusive test result:\\n\\n\\\n",
    "    {ttest_string_df}\\n\\n\\\n",
    "Correlation between continuous variables\\n\\\n",
    "- Result table to measure correlation between two continuous variables:\\n\\n\\\n",
    "    {corr_res_string}\\n\\n\\\n",
    "Forecast of billing amount for the next three months\\n\\\n",
    "- Result table to forecast for billing amount for the next three months:\\n\\n\\\n",
    "    {forecast_df_string}\"\n",
    "\n",
    "print(advanced_analytics_summary)"
   ]
  },
  {
   "cell_type": "markdown",
   "id": "155b10b7",
   "metadata": {},
   "source": [
    "# Final prompts generation"
   ]
  },
  {
   "cell_type": "code",
   "execution_count": 27,
   "id": "2b287425",
   "metadata": {},
   "outputs": [],
   "source": [
    "# Setup final PROMPT\n",
    "PROMPT_ = f\"\"\"\n",
    "Write me a summary describing the finding of inpatient hospital data for a selection year. \n",
    "There are two sections of analysis with section 1 as descriptive and section 2 as advanced analytics.\n",
    "In the report, make sure\n",
    "- Highilght the time range for the analysis\n",
    "- Start with Highlights of analysis in bullet points with most interesting insights identified in the analysis\n",
    "- Follow up by in-depth analysis for each of the sections by providing apprepropriate context for each measurements\n",
    "- For Descriptive analysis, extract interesting insights for each metrics such as highest, lowest, percent deviation, fold changes etc.\n",
    "- For Advanced analytics, extract statistically significant interesting insights for each metrics. Report exact numbers of forecasted amount.\n",
    "- Conclude findings with areas of attentions.  \n",
    "Here is the analytics output:\n",
    "{descriptive_summary}\n",
    "\n",
    "{advanced_analytics_summary}\n",
    "\"\"\"\n",
    "\n",
    "SYSTEMS_=\"\"\"\n",
    "You are an analyst writing a report based on metrics computed, derive insights and findings for reporting. \n",
    "    Output response in HTML format with title and subtitiles\n",
    "\"\"\""
   ]
  },
  {
   "cell_type": "markdown",
   "id": "393298ac",
   "metadata": {},
   "source": [
    "# LLM Model setup"
   ]
  },
  {
   "cell_type": "code",
   "execution_count": 29,
   "id": "53c0036e",
   "metadata": {},
   "outputs": [],
   "source": [
    "import openai\n",
    "import os\n",
    "from dotenv import load_dotenv\n",
    "\n",
    "load_dotenv()\n",
    "# Function to make an API call to OpenAI's GPT model\n",
    "openai_api_key = os.getenv('OPENAI_API_KEY')\n",
    "\n",
    "def generate_response(text, system):\n",
    "\n",
    "    \"\"\"\n",
    "    Function to send a prompt to OpenAI and receive a response.\n",
    "    \n",
    "    :param prompt: Text input for the OpenAI model.\n",
    "    :param model: Model to use, e.g., \"gpt-3.5-turbo\" or \"gpt-4\".\n",
    "    :param max_tokens: Maximum number of tokens in the response.\n",
    "    :return: Response text from the OpenAI model.\n",
    "    \"\"\"\n",
    "    \n",
    "    # Set your OpenAI API key\n",
    "    openai.api_key = f'{openai_api_key}'\n",
    "    \n",
    "    messages = [\n",
    "        {\"role\": \"system\", \"content\": system},\n",
    "        {\"role\": \"user\", \"content\": text}\n",
    "\n",
    "    ]\n",
    "    try:\n",
    "        response = openai.chat.completions.create(\n",
    "            model=\"gpt-4\",\n",
    "            messages = messages\n",
    "        )\n",
    "    \n",
    "        return response.choices[0].message.content.strip()\n",
    "    \n",
    "    except openai.OpenAIError as e:\n",
    "        print(f\"An error occurred: {e}\")\n",
    "        \n",
    "        return None\n"
   ]
  },
  {
   "cell_type": "markdown",
   "id": "a0a562b1",
   "metadata": {},
   "source": [
    "## Execute LLM model"
   ]
  },
  {
   "cell_type": "code",
   "execution_count": 30,
   "id": "10f5673d",
   "metadata": {},
   "outputs": [
    {
     "name": "stdout",
     "output_type": "stream",
     "text": [
      "AI Response: <html>\n",
      "<head>\n",
      "</head>\n",
      "<body>\n",
      "<h1>Report on Inpatient Hospital Data Analysis</h1>\n",
      "\n",
      "<p>The report consists of two sections: descriptive analytics and advanced analytics. These analyses were done over the timeframe of 1st April 2022 to 31st May 2023.</p>\n",
      "\n",
      "<h2>Highlights of the Analysis</h2>\n",
      "<ul>\n",
      "    <li>A total of 12,863 hospital admissions were registered</li>\n",
      "    <li>The majority of hospital encounters were for patients aged above 65 (3,931 encounters)</li>\n",
      "    <li>Admission distribution is almost equal in terms of gender</li>\n",
      "    <li>Diabetes was the most common medical condition (2,223 encounters) causing hospitalizations</li>\n",
      "    <li>The most common admission type was elective (4,384 encounters)</li>\n",
      "    <li>Aspirin was the most commonly prescribed medication (2,630 encounters)</li>\n",
      "    <li>Medicare was the largest insurance provider (2,667 encounters)</li>\n",
      "    <li>A total of $327,244,994.55 was billed over the one-year period</li>\n",
      "</ul>\n",
      "\n",
      "<h2>Descriptive Analysis</h2>\n",
      "<h3>Utilization Analysis</h3>\n",
      "<p>An exploration into the utilization of hospital resources per patient reveals interesting patterns in the distribution of encounter types, medical conditions, and prescribed medications. Hospital encounters are fairly evenly distributed over age groups and medical conditions. The bulk of hospitalizations were elective (4,384) followed by urgent (4249), and emergency (4230). Aspirin was the most prescribed medication appearing in 2,630 encounters.</p>\n",
      "\n",
      "<h3>Financial Analysis</h3>\n",
      "<p>The study reveals that the total billed amount for these admissions totaled to $327,244,994.55. The average bill amount per encounter equaled to $25,440.80, while the median was recorded as $25,459.10.</p>\n",
      "\n",
      "<h2>Advanced Analytics</h2>\n",
      "<h3>Hypothesis Testing</h3>\n",
      "<p>The hypothesis proposed was: encounters with abnormal or inconclusive test results are statistically significantly higher in billing amount per encounter. The t-test result shows insignificant variations in billing amounts for such types of patients when compared with the reference group. Only medicare showed more than 4% of deviation but the p-value was still higher than 0.05 hence the evidence is not strong enough to reject the null hypothesis.</p>\n",
      "\n",
      "<h3>Correlation Analysis</h3>\n",
      "<p>The correlation coefficient between the variables Age and Billing Amount and between Age and Length of Stay demonstrated a positive but weak correlation. On the other hand, a negative correlation was found between Billing Amount and Length of Stay.</p>\n",
      "\n",
      "<h3>Forecast Analysis</h3>\n",
      "<p>Predictions for the billing amount for the months of July, August, and September 2023 have been placed at around $22 million.</p>\n",
      "\n",
      "<h2>Conclusion</h2>\n",
      "<p>The findings indicate that while certain patterns and trends can be discerned in inpatient hospital data, there is no significant statistical difference when comparing hospital encounters with abnormal/inconclusive test results and the overall population. Ongoing analysis over an expanded timeframe would provide more insight, particularly as it relates to variables such as age and length of stay. The forecast suggests a steady need for financial resources in the coming months to cater to inpatient hospital services.</p>\n",
      "</body>\n",
      "</html>\n"
     ]
    }
   ],
   "source": [
    "result = generate_response(PROMPT_, SYSTEMS_)\n",
    "print(\"AI Response:\", result)"
   ]
  },
  {
   "cell_type": "markdown",
   "id": "e197f360",
   "metadata": {},
   "source": [
    "# Results deliveries"
   ]
  },
  {
   "cell_type": "markdown",
   "id": "bbc5140e",
   "metadata": {},
   "source": [
    "## export as HTML file"
   ]
  },
  {
   "cell_type": "code",
   "execution_count": 31,
   "id": "238489b5",
   "metadata": {},
   "outputs": [
    {
     "name": "stdout",
     "output_type": "stream",
     "text": [
      "HTML file saved at: /Users/jasmine/Documents/data_science_project/LLM_reporting/healthcare_yearly_report.html\n"
     ]
    }
   ],
   "source": [
    "# Save the HTML to a file\n",
    "output_file = \"healthcare_yearly_report.html\"\n",
    "with open(output_file, \"w\") as file:\n",
    "    file.write(result)\n",
    "\n",
    "# Provide a message with the file location\n",
    "print(f\"HTML file saved at: {os.path.abspath(output_file)}\")"
   ]
  },
  {
   "cell_type": "markdown",
   "id": "80ad3a6f",
   "metadata": {},
   "source": [
    "## Generate email content with HTML file and deliver via SendGrid"
   ]
  },
  {
   "cell_type": "code",
   "execution_count": 32,
   "id": "68406fb3",
   "metadata": {},
   "outputs": [
    {
     "name": "stdout",
     "output_type": "stream",
     "text": [
      "Email sent successfully: 202\n"
     ]
    }
   ],
   "source": [
    "import os\n",
    "from sendgrid import SendGridAPIClient\n",
    "from sendgrid.helpers.mail import Mail\n",
    "\n",
    "def send_test_email(to_email):\n",
    "    message = Mail(\n",
    "        from_email='{insert your email here}',\n",
    "        to_emails=to_email,\n",
    "        subject='Please review Inpatient hospitalization analysis',\n",
    "        html_content=result\n",
    "    )\n",
    "        # html_content='<strong>This is a test email sent with SendGrid and Python.</strong>'\n",
    "\n",
    "    try:\n",
    "        sg = SendGridAPIClient(os.environ.get('SENDGRID_API_KEY'))\n",
    "        response = sg.send(message)\n",
    "        print(\"Email sent successfully:\", response.status_code)\n",
    "    except Exception as e:\n",
    "        print(\"Error sending email:\", e)\n",
    "\n",
    "if __name__ == \"__main__\":\n",
    "    to_email = input(\"Enter the email address to send the test email: \")\n",
    "    send_test_email(to_email)"
   ]
  }
 ],
 "metadata": {
  "kernelspec": {
   "display_name": "Python 3",
   "language": "python",
   "name": "python3"
  },
  "language_info": {
   "codemirror_mode": {
    "name": "ipython",
    "version": 3
   },
   "file_extension": ".py",
   "mimetype": "text/x-python",
   "name": "python",
   "nbconvert_exporter": "python",
   "pygments_lexer": "ipython3",
   "version": "3.11.7"
  }
 },
 "nbformat": 4,
 "nbformat_minor": 5
}
